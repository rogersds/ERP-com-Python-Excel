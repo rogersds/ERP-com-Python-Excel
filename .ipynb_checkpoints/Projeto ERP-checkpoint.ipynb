{
 "cells": [
  {
   "cell_type": "markdown",
   "id": "1b63fa6f",
   "metadata": {},
   "source": [
    "## ERP \n",
    "O planejamento de recursos empresariais (ERP) é um sistema de software que ajuda você a administrar toda a empresa, oferecendo suporte à automação e aos processos de finanças, recursos humanos, produção, cadeia de suprimentos, serviços, procurement e muito mais."
   ]
  },
  {
   "cell_type": "markdown",
   "id": "29ddef13",
   "metadata": {},
   "source": [
    " fakturama -> link na descrição -> ERP de exemplo que vamos usar\n",
    " pyautogui -> é a ferramenta que a gente vai usar pra automatizar ERP\n",
    "https://www.fakturama.info/\n",
    "\n",
    " Escrever a lógica que a gente vai construir em português o passo a passo"
   ]
  },
  {
   "cell_type": "markdown",
   "id": "f08a6bdf",
   "metadata": {},
   "source": [
    "## Bibliotecas que usei\n",
    "- pip install pyautogui\n",
    "- pip install Pillow \n",
    "- pip install opencv-python\n",
    "- time\n",
    "- subprocess"
   ]
  },
  {
   "cell_type": "code",
   "execution_count": 1,
   "id": "7b1161cb",
   "metadata": {},
   "outputs": [],
   "source": [
    "import pyautogui\n",
    "import subprocess # serve para abrir arquivos no seu pc\n",
    "import time\n",
    "\n",
    "import pandas as pd\n",
    "\n",
    "pyautogui.FAILSAFE = True"
   ]
  },
  {
   "cell_type": "code",
   "execution_count": 2,
   "id": "6cebb88d",
   "metadata": {},
   "outputs": [],
   "source": [
    "\n",
    "# como vamos repetir o mesmo código para pegar as img, criamos uma funç´~ao para encontrar as imagens\n",
    "def encontrar_imagem(imagem):\n",
    "    while not pyautogui.locateOnScreen(imagem, grayscale=True, confidence=0.9):  # reconhecimento de imagem\n",
    "        time.sleep(1)\n",
    "    encontrou = pyautogui.locateOnScreen(imagem, grayscale=True, confidence=0.9)\n",
    "    return encontrou\n",
    "# enquanto não encontrar a logo, ele vai esperar de 1s em 1s"
   ]
  },
  {
   "cell_type": "code",
   "execution_count": 3,
   "id": "4cb1d34d",
   "metadata": {},
   "outputs": [],
   "source": [
    "# Abrir o ERP (fakturama)\n",
    "subprocess.Popen([r\"C:\\Program Files\\Fakturama2\\Fakturama.exe\"])\n",
    "# encontrou = None\n",
    "# encontrou = x, y, largura, altura\n",
    "encontrou = encontrar_imagem(\"logo_fakturama.png\")"
   ]
  },
  {
   "cell_type": "code",
   "execution_count": 4,
   "id": "8561d702",
   "metadata": {},
   "outputs": [],
   "source": [
    "# ussando o pandas para abrir um arquivo excel e exportar os dados da tabela para o nosso ERP\n",
    "\n",
    "tabela_produtos = pd.read_excel(\"produtos.xlsx\")\n",
    "# .index traz as info de cada linha da tabela\n",
    "# nome = tabela_produtos.loc[linha, coluna]\n",
    "for linha in tabela_produtos.index:\n",
    "    nome = tabela_produtos.loc[linha, \"Nome\"]\n",
    "    id_produto = tabela_produtos.loc[linha, \"ID\"]\n",
    "    categoria = tabela_produtos.loc[linha, \"Categoria\"]\n",
    "    gtin = tabela_produtos.loc[linha, \"GTIN\"]\n",
    "    suplier = tabela_produtos.loc[linha, \"Supplier\"]\n",
    "    descricao = tabela_produtos.loc[linha, \"Descrição\"]\n",
    "    imagem = tabela_produtos.loc[linha, \"Imagem\"]\n",
    "    preco = tabela_produtos.loc[linha, \"Preço\"]\n",
    "    custo = tabela_produtos.loc[linha, \"Custo\"]\n",
    "    estoque =  tabela_produtos.loc[linha, \"Estoque\"]\n",
    "\n",
    "      # Clicar em menu_new \n",
    "    encontrou = encontrar_imagem(\"menu_new.png\")\n",
    "    pyautogui.click(pyautogui.center(encontrou))\n",
    "\n",
    "      # Clicar em New Product\n",
    "    encontrou = encontrar_imagem(\"new_product.png\")\n",
    "    pyautogui.click(pyautogui.center(encontrou))\n",
    "\n",
    "\n",
    "    # para clicar nos campos através da imagem e as posicões\n",
    "    # como a img retorna  x[0], y[1], largura[2], altura[3] respectivamente\n",
    "    # pegamos atraves dos indices como se fosse uma lista\n",
    "    def direita(posicoes_imagem):\n",
    "        return posicoes_imagem[0] + posicoes_imagem[2], posicoes_imagem[1] + posicoes_imagem[3]/2\n",
    "\n",
    "# passando tudo para \"str\" pois assim a maquina indentifca tudo como texto e o risco de erro é baixo\n",
    "    encontrou = encontrar_imagem(\"item_number.png\")\n",
    "    pyautogui.click(direita(encontrou))\n",
    "    pyautogui.write(str(id_produto))\n",
    "\n",
    "    encontrou = encontrar_imagem(\"campo_name.png\")\n",
    "    pyautogui.click(direita(encontrou))\n",
    "    pyautogui.write(str(nome))\n",
    "\n",
    "\n",
    "\n",
    "    encontrou = encontrar_imagem(\"campo_category.png\")\n",
    "    pyautogui.click(direita(encontrou))\n",
    "    pyautogui.write(str(categoria))\n",
    "\n",
    "\n",
    "    encontrou = encontrar_imagem(\"campo_gtin.png\")\n",
    "    pyautogui.click(direita(encontrou))\n",
    "    pyautogui.write(str(gtin))\n",
    "\n",
    "    encontrou = encontrar_imagem(\"campo_supplier_code.png\")\n",
    "    pyautogui.click(direita(encontrou))\n",
    "    pyautogui.write(str(suplier))\n",
    "\n",
    "    encontrou = encontrar_imagem(\"campo_descrition.png\")\n",
    "    pyautogui.click(direita(encontrou))\n",
    "    pyautogui.write(str(descricao))\n",
    "\n",
    "\n",
    "\n",
    "    encontrou = encontrar_imagem(\"campo_price.png\")\n",
    "    pyautogui.click(direita(encontrou))\n",
    "    preco_texto = f\"{preco:.2f}\".replace(\".\", \",\") # casa decimal e trocando o . por , com o \"replace\"\n",
    "    pyautogui.write(str(preco_texto))\n",
    "    \n",
    "    encontrou = encontrar_imagem(\"custo_produto.png\")\n",
    "    pyautogui.click(direita(encontrou))\n",
    "    custo_texto = f\"{preco:.2f}\".replace(\".\", \",\") \n",
    "    pyautogui.write(str(custo_texto))\n",
    "\n",
    "    encontrou = encontrar_imagem(\"stock_produto.png\")\n",
    "    pyautogui.click(direita(encontrou))\n",
    "    preco_texto = f\"{preco:.2f}\".replace(\".\", \",\") # casa decimal e trocando o . por , com o \"replace\"\n",
    "    pyautogui.write(str(preco_texto))\n",
    "\n",
    "    # os arquivos com caracteres especias podem dar erro quando se passa um  caminho \n",
    "    # procure deixar sempre sem \n",
    "    # ex: automação -->> automacao\n",
    "    encontrou = encontrar_imagem(\"selecionar_img.png\")\n",
    "    pyautogui.click(pyautogui.center(encontrou))\n",
    "    pyautogui.write (rf\"C:\\Users\\rogge\\Downloads\\Mentoria Automacao de ERP\\Imagens Produtos\\{str(imagem)}\")\n",
    "    time.sleep(3)   \n",
    "    pyautogui.press(\"enter\")\n",
    "\n",
    "    time.sleep(2) \n",
    "    encontrou = encontrar_imagem(\"botao_salvar.png\")\n",
    "    pyautogui.click(pyautogui.center(encontrou))\n",
    "\n",
    "\n",
    "\n",
    "\n"
   ]
  },
  {
   "cell_type": "code",
   "execution_count": null,
   "id": "beb476f9",
   "metadata": {},
   "outputs": [],
   "source": []
  },
  {
   "cell_type": "markdown",
   "id": "7beee28e",
   "metadata": {},
   "source": [
    "\n",
    "####  procurando uma imagem\n",
    "\n",
    "#### Nem sempre o pyautogui vai achar a img com 100% dos pixels\n",
    "-   Por isso  passamos os parametros :\n",
    "    - grayscale = True\n",
    "    - confidence = 0.9 -> seria o grau de % de comptibilidade da img\n",
    "    \n",
    "\n",
    "#### pyautogui.center(imagem) dá as coordenadas do centro da img\n",
    "\n",
    "\n",
    "####  2 formas de Abrir o ERP FAKTURAMA\n",
    "    # posso abrir pelo caminho inde está meu programa\n",
    "    # usanso a tecla windows e escrevendo \n",
    "\n",
    "\n",
    "#### Pyautogui.FAILSAFE = True\n",
    "em canso de erro no programa, usamos o Pyautogui.FAILSAFE = True para para-lo com o mouse nas extremidades da tela\n",
    "\n",
    "\n",
    "####  TECLAS\n",
    "- hotkey -> combinações de teclas ex: hotkey(\"TAB + enter\")\n",
    "- pyautogui.press -> apertar 1 tecla \n",
    "\n",
    "#### comandos do teclado \n",
    "- print(pyautogui.KEYBOARD_KEYS)"
   ]
  },
  {
   "cell_type": "code",
   "execution_count": 5,
   "id": "e46f88e8",
   "metadata": {},
   "outputs": [
    {
     "name": "stdout",
     "output_type": "stream",
     "text": [
      "['\\t', '\\n', '\\r', ' ', '!', '\"', '#', '$', '%', '&', \"'\", '(', ')', '*', '+', ',', '-', '.', '/', '0', '1', '2', '3', '4', '5', '6', '7', '8', '9', ':', ';', '<', '=', '>', '?', '@', '[', '\\\\', ']', '^', '_', '`', 'a', 'b', 'c', 'd', 'e', 'f', 'g', 'h', 'i', 'j', 'k', 'l', 'm', 'n', 'o', 'p', 'q', 'r', 's', 't', 'u', 'v', 'w', 'x', 'y', 'z', '{', '|', '}', '~', 'accept', 'add', 'alt', 'altleft', 'altright', 'apps', 'backspace', 'browserback', 'browserfavorites', 'browserforward', 'browserhome', 'browserrefresh', 'browsersearch', 'browserstop', 'capslock', 'clear', 'convert', 'ctrl', 'ctrlleft', 'ctrlright', 'decimal', 'del', 'delete', 'divide', 'down', 'end', 'enter', 'esc', 'escape', 'execute', 'f1', 'f10', 'f11', 'f12', 'f13', 'f14', 'f15', 'f16', 'f17', 'f18', 'f19', 'f2', 'f20', 'f21', 'f22', 'f23', 'f24', 'f3', 'f4', 'f5', 'f6', 'f7', 'f8', 'f9', 'final', 'fn', 'hanguel', 'hangul', 'hanja', 'help', 'home', 'insert', 'junja', 'kana', 'kanji', 'launchapp1', 'launchapp2', 'launchmail', 'launchmediaselect', 'left', 'modechange', 'multiply', 'nexttrack', 'nonconvert', 'num0', 'num1', 'num2', 'num3', 'num4', 'num5', 'num6', 'num7', 'num8', 'num9', 'numlock', 'pagedown', 'pageup', 'pause', 'pgdn', 'pgup', 'playpause', 'prevtrack', 'print', 'printscreen', 'prntscrn', 'prtsc', 'prtscr', 'return', 'right', 'scrolllock', 'select', 'separator', 'shift', 'shiftleft', 'shiftright', 'sleep', 'space', 'stop', 'subtract', 'tab', 'up', 'volumedown', 'volumemute', 'volumeup', 'win', 'winleft', 'winright', 'yen', 'command', 'option', 'optionleft', 'optionright']\n"
     ]
    }
   ],
   "source": []
  }
 ],
 "metadata": {
  "kernelspec": {
   "display_name": "Python 3 (ipykernel)",
   "language": "python",
   "name": "python3"
  },
  "language_info": {
   "codemirror_mode": {
    "name": "ipython",
    "version": 3
   },
   "file_extension": ".py",
   "mimetype": "text/x-python",
   "name": "python",
   "nbconvert_exporter": "python",
   "pygments_lexer": "ipython3",
   "version": "3.10.9"
  }
 },
 "nbformat": 4,
 "nbformat_minor": 5
}
